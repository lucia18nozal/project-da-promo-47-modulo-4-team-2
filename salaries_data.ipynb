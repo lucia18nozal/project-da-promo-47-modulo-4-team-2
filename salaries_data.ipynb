{
 "cells": [
  {
   "cell_type": "code",
   "execution_count": 282,
   "metadata": {},
   "outputs": [],
   "source": [
    "import pandas as pd # Importar la librería pandas para manipulación y análisis de datos."
   ]
  },
  {
   "cell_type": "code",
   "execution_count": 283,
   "metadata": {},
   "outputs": [],
   "source": [
    "# Configura la opción de visualización para mostrar todas las columnas del DataFrame, sin limitaciones.\n",
    "pd.set_option('display.max_columns', None)"
   ]
  },
  {
   "cell_type": "code",
   "execution_count": 284,
   "metadata": {},
   "outputs": [
    {
     "data": {
      "text/html": [
       "<div>\n",
       "<style scoped>\n",
       "    .dataframe tbody tr th:only-of-type {\n",
       "        vertical-align: middle;\n",
       "    }\n",
       "\n",
       "    .dataframe tbody tr th {\n",
       "        vertical-align: top;\n",
       "    }\n",
       "\n",
       "    .dataframe thead th {\n",
       "        text-align: right;\n",
       "    }\n",
       "</style>\n",
       "<table border=\"1\" class=\"dataframe\">\n",
       "  <thead>\n",
       "    <tr style=\"text-align: right;\">\n",
       "      <th></th>\n",
       "      <th>work_year</th>\n",
       "      <th>experience_level</th>\n",
       "      <th>employment_type</th>\n",
       "      <th>job_title</th>\n",
       "      <th>salary</th>\n",
       "      <th>salary_currency</th>\n",
       "      <th>salary_in_usd</th>\n",
       "      <th>employee_residence</th>\n",
       "      <th>remote_ratio</th>\n",
       "      <th>company_location</th>\n",
       "      <th>company_size</th>\n",
       "    </tr>\n",
       "  </thead>\n",
       "  <tbody>\n",
       "    <tr>\n",
       "      <th>0</th>\n",
       "      <td>2020</td>\n",
       "      <td>MI</td>\n",
       "      <td>FT</td>\n",
       "      <td>Data Scientist</td>\n",
       "      <td>70000</td>\n",
       "      <td>EUR</td>\n",
       "      <td>79833</td>\n",
       "      <td>DE</td>\n",
       "      <td>0</td>\n",
       "      <td>DE</td>\n",
       "      <td>L</td>\n",
       "    </tr>\n",
       "    <tr>\n",
       "      <th>1</th>\n",
       "      <td>2020</td>\n",
       "      <td>SE</td>\n",
       "      <td>FT</td>\n",
       "      <td>Machine Learning Scientist</td>\n",
       "      <td>260000</td>\n",
       "      <td>USD</td>\n",
       "      <td>260000</td>\n",
       "      <td>JP</td>\n",
       "      <td>0</td>\n",
       "      <td>JP</td>\n",
       "      <td>S</td>\n",
       "    </tr>\n",
       "    <tr>\n",
       "      <th>2</th>\n",
       "      <td>2020</td>\n",
       "      <td>SE</td>\n",
       "      <td>FT</td>\n",
       "      <td>Big Data Engineer</td>\n",
       "      <td>85000</td>\n",
       "      <td>GBP</td>\n",
       "      <td>109024</td>\n",
       "      <td>GB</td>\n",
       "      <td>50</td>\n",
       "      <td>GB</td>\n",
       "      <td>M</td>\n",
       "    </tr>\n",
       "    <tr>\n",
       "      <th>3</th>\n",
       "      <td>2020</td>\n",
       "      <td>MI</td>\n",
       "      <td>FT</td>\n",
       "      <td>Product Data Analyst</td>\n",
       "      <td>20000</td>\n",
       "      <td>USD</td>\n",
       "      <td>20000</td>\n",
       "      <td>HN</td>\n",
       "      <td>0</td>\n",
       "      <td>HN</td>\n",
       "      <td>S</td>\n",
       "    </tr>\n",
       "    <tr>\n",
       "      <th>4</th>\n",
       "      <td>2020</td>\n",
       "      <td>SE</td>\n",
       "      <td>FT</td>\n",
       "      <td>Machine Learning Engineer</td>\n",
       "      <td>150000</td>\n",
       "      <td>USD</td>\n",
       "      <td>150000</td>\n",
       "      <td>US</td>\n",
       "      <td>50</td>\n",
       "      <td>US</td>\n",
       "      <td>L</td>\n",
       "    </tr>\n",
       "    <tr>\n",
       "      <th>...</th>\n",
       "      <td>...</td>\n",
       "      <td>...</td>\n",
       "      <td>...</td>\n",
       "      <td>...</td>\n",
       "      <td>...</td>\n",
       "      <td>...</td>\n",
       "      <td>...</td>\n",
       "      <td>...</td>\n",
       "      <td>...</td>\n",
       "      <td>...</td>\n",
       "      <td>...</td>\n",
       "    </tr>\n",
       "    <tr>\n",
       "      <th>602</th>\n",
       "      <td>2022</td>\n",
       "      <td>SE</td>\n",
       "      <td>FT</td>\n",
       "      <td>Data Engineer</td>\n",
       "      <td>154000</td>\n",
       "      <td>USD</td>\n",
       "      <td>154000</td>\n",
       "      <td>US</td>\n",
       "      <td>100</td>\n",
       "      <td>US</td>\n",
       "      <td>M</td>\n",
       "    </tr>\n",
       "    <tr>\n",
       "      <th>603</th>\n",
       "      <td>2022</td>\n",
       "      <td>SE</td>\n",
       "      <td>FT</td>\n",
       "      <td>Data Engineer</td>\n",
       "      <td>126000</td>\n",
       "      <td>USD</td>\n",
       "      <td>126000</td>\n",
       "      <td>US</td>\n",
       "      <td>100</td>\n",
       "      <td>US</td>\n",
       "      <td>M</td>\n",
       "    </tr>\n",
       "    <tr>\n",
       "      <th>604</th>\n",
       "      <td>2022</td>\n",
       "      <td>SE</td>\n",
       "      <td>FT</td>\n",
       "      <td>Data Analyst</td>\n",
       "      <td>129000</td>\n",
       "      <td>USD</td>\n",
       "      <td>129000</td>\n",
       "      <td>US</td>\n",
       "      <td>0</td>\n",
       "      <td>US</td>\n",
       "      <td>M</td>\n",
       "    </tr>\n",
       "    <tr>\n",
       "      <th>605</th>\n",
       "      <td>2022</td>\n",
       "      <td>SE</td>\n",
       "      <td>FT</td>\n",
       "      <td>Data Analyst</td>\n",
       "      <td>150000</td>\n",
       "      <td>USD</td>\n",
       "      <td>150000</td>\n",
       "      <td>US</td>\n",
       "      <td>100</td>\n",
       "      <td>US</td>\n",
       "      <td>M</td>\n",
       "    </tr>\n",
       "    <tr>\n",
       "      <th>606</th>\n",
       "      <td>2022</td>\n",
       "      <td>MI</td>\n",
       "      <td>FT</td>\n",
       "      <td>AI Scientist</td>\n",
       "      <td>200000</td>\n",
       "      <td>USD</td>\n",
       "      <td>200000</td>\n",
       "      <td>IN</td>\n",
       "      <td>100</td>\n",
       "      <td>US</td>\n",
       "      <td>L</td>\n",
       "    </tr>\n",
       "  </tbody>\n",
       "</table>\n",
       "<p>607 rows × 11 columns</p>\n",
       "</div>"
      ],
      "text/plain": [
       "     work_year experience_level employment_type                   job_title  \\\n",
       "0         2020               MI              FT              Data Scientist   \n",
       "1         2020               SE              FT  Machine Learning Scientist   \n",
       "2         2020               SE              FT           Big Data Engineer   \n",
       "3         2020               MI              FT        Product Data Analyst   \n",
       "4         2020               SE              FT   Machine Learning Engineer   \n",
       "..         ...              ...             ...                         ...   \n",
       "602       2022               SE              FT               Data Engineer   \n",
       "603       2022               SE              FT               Data Engineer   \n",
       "604       2022               SE              FT                Data Analyst   \n",
       "605       2022               SE              FT                Data Analyst   \n",
       "606       2022               MI              FT                AI Scientist   \n",
       "\n",
       "     salary salary_currency  salary_in_usd employee_residence  remote_ratio  \\\n",
       "0     70000             EUR          79833                 DE             0   \n",
       "1    260000             USD         260000                 JP             0   \n",
       "2     85000             GBP         109024                 GB            50   \n",
       "3     20000             USD          20000                 HN             0   \n",
       "4    150000             USD         150000                 US            50   \n",
       "..      ...             ...            ...                ...           ...   \n",
       "602  154000             USD         154000                 US           100   \n",
       "603  126000             USD         126000                 US           100   \n",
       "604  129000             USD         129000                 US             0   \n",
       "605  150000             USD         150000                 US           100   \n",
       "606  200000             USD         200000                 IN           100   \n",
       "\n",
       "    company_location company_size  \n",
       "0                 DE            L  \n",
       "1                 JP            S  \n",
       "2                 GB            M  \n",
       "3                 HN            S  \n",
       "4                 US            L  \n",
       "..               ...          ...  \n",
       "602               US            M  \n",
       "603               US            M  \n",
       "604               US            M  \n",
       "605               US            M  \n",
       "606               US            L  \n",
       "\n",
       "[607 rows x 11 columns]"
      ]
     },
     "execution_count": 284,
     "metadata": {},
     "output_type": "execute_result"
    }
   ],
   "source": [
    "df = pd.read_csv('CSV/Salaries_Data_Dataset.csv',index_col=0)\n",
    "df"
   ]
  },
  {
   "cell_type": "code",
   "execution_count": 285,
   "metadata": {},
   "outputs": [],
   "source": [
    "df = df.rename(columns={\n",
    "    'work_year': 'Año de Trabajo',\n",
    "    'experience_level': 'Nivel de Experiencia',\n",
    "    'employment_type': 'Tipo de Empleo',\n",
    "    'job_title': 'Título del Puesto',\n",
    "    'salary': 'Salario',\n",
    "    'salary_currency': 'Moneda del Salario',\n",
    "    'salary_in_usd': 'Salario en USD',\n",
    "    'employee_residence': 'Residencia del Empleado',\n",
    "    'remote_ratio': 'Proporcion de Trabajo en Remoto',\n",
    "    'company_location': 'Ubicacion de la Empresa',\n",
    "    'company_size': 'Tamaño de la Empresa'\n",
    "})"
   ]
  },
  {
   "cell_type": "code",
   "execution_count": 286,
   "metadata": {},
   "outputs": [
    {
     "name": "stdout",
     "output_type": "stream",
     "text": [
      "<class 'pandas.core.frame.DataFrame'>\n",
      "Index: 607 entries, 0 to 606\n",
      "Data columns (total 11 columns):\n",
      " #   Column                           Non-Null Count  Dtype \n",
      "---  ------                           --------------  ----- \n",
      " 0   Año de Trabajo                   607 non-null    int64 \n",
      " 1   Nivel de Experiencia             607 non-null    object\n",
      " 2   Tipo de Empleo                   607 non-null    object\n",
      " 3   Título del Puesto                607 non-null    object\n",
      " 4   Salario                          607 non-null    int64 \n",
      " 5   Moneda del Salario               607 non-null    object\n",
      " 6   Salario en USD                   607 non-null    int64 \n",
      " 7   Residencia del Empleado          607 non-null    object\n",
      " 8   Proporcion de Trabajo en Remoto  607 non-null    int64 \n",
      " 9   Ubicacion de la Empresa          607 non-null    object\n",
      " 10  Tamaño de la Empresa             607 non-null    object\n",
      "dtypes: int64(4), object(7)\n",
      "memory usage: 56.9+ KB\n",
      "None\n"
     ]
    }
   ],
   "source": [
    "print(df.info())  # Información general sobre las columnas y tipos de datos del DataFrame de vuelos."
   ]
  },
  {
   "cell_type": "code",
   "execution_count": 287,
   "metadata": {},
   "outputs": [
    {
     "data": {
      "text/plain": [
       "np.int64(42)"
      ]
     },
     "execution_count": 287,
     "metadata": {},
     "output_type": "execute_result"
    }
   ],
   "source": [
    "df.duplicated().sum()  # Verificar si existen filas duplicadas en el DataFrame."
   ]
  },
  {
   "cell_type": "code",
   "execution_count": 288,
   "metadata": {},
   "outputs": [],
   "source": [
    "df.drop_duplicates(inplace=True) # Eliminar filas duplicadas del DataFrame."
   ]
  },
  {
   "cell_type": "code",
   "execution_count": 289,
   "metadata": {},
   "outputs": [
    {
     "data": {
      "text/plain": [
       "np.int64(0)"
      ]
     },
     "execution_count": 289,
     "metadata": {},
     "output_type": "execute_result"
    }
   ],
   "source": [
    "df.duplicated().sum() # Verificar si existen filas duplicadas en el DataFrame tras eliminarlos."
   ]
  },
  {
   "cell_type": "code",
   "execution_count": 290,
   "metadata": {},
   "outputs": [
    {
     "data": {
      "text/plain": [
       "Año de Trabajo                     0\n",
       "Nivel de Experiencia               0\n",
       "Tipo de Empleo                     0\n",
       "Título del Puesto                  0\n",
       "Salario                            0\n",
       "Moneda del Salario                 0\n",
       "Salario en USD                     0\n",
       "Residencia del Empleado            0\n",
       "Proporcion de Trabajo en Remoto    0\n",
       "Ubicacion de la Empresa            0\n",
       "Tamaño de la Empresa               0\n",
       "dtype: int64"
      ]
     },
     "execution_count": 290,
     "metadata": {},
     "output_type": "execute_result"
    }
   ],
   "source": [
    "df.isnull().sum() # Verificar si existen valores nulos en el DataFrame."
   ]
  },
  {
   "cell_type": "code",
   "execution_count": 291,
   "metadata": {},
   "outputs": [
    {
     "data": {
      "text/html": [
       "<div>\n",
       "<style scoped>\n",
       "    .dataframe tbody tr th:only-of-type {\n",
       "        vertical-align: middle;\n",
       "    }\n",
       "\n",
       "    .dataframe tbody tr th {\n",
       "        vertical-align: top;\n",
       "    }\n",
       "\n",
       "    .dataframe thead th {\n",
       "        text-align: right;\n",
       "    }\n",
       "</style>\n",
       "<table border=\"1\" class=\"dataframe\">\n",
       "  <thead>\n",
       "    <tr style=\"text-align: right;\">\n",
       "      <th></th>\n",
       "      <th>count</th>\n",
       "      <th>mean</th>\n",
       "      <th>std</th>\n",
       "      <th>min</th>\n",
       "      <th>25%</th>\n",
       "      <th>50%</th>\n",
       "      <th>75%</th>\n",
       "      <th>max</th>\n",
       "    </tr>\n",
       "  </thead>\n",
       "  <tbody>\n",
       "    <tr>\n",
       "      <th>Año de Trabajo</th>\n",
       "      <td>565.0</td>\n",
       "      <td>2021.364602</td>\n",
       "      <td>6.981384e-01</td>\n",
       "      <td>2020.0</td>\n",
       "      <td>2021.0</td>\n",
       "      <td>2021.0</td>\n",
       "      <td>2022.0</td>\n",
       "      <td>2022.0</td>\n",
       "    </tr>\n",
       "    <tr>\n",
       "      <th>Salario</th>\n",
       "      <td>565.0</td>\n",
       "      <td>338115.985841</td>\n",
       "      <td>1.599879e+06</td>\n",
       "      <td>4000.0</td>\n",
       "      <td>67000.0</td>\n",
       "      <td>110925.0</td>\n",
       "      <td>165000.0</td>\n",
       "      <td>30400000.0</td>\n",
       "    </tr>\n",
       "    <tr>\n",
       "      <th>Salario en USD</th>\n",
       "      <td>565.0</td>\n",
       "      <td>110610.343363</td>\n",
       "      <td>7.228070e+04</td>\n",
       "      <td>2859.0</td>\n",
       "      <td>60757.0</td>\n",
       "      <td>100000.0</td>\n",
       "      <td>150000.0</td>\n",
       "      <td>600000.0</td>\n",
       "    </tr>\n",
       "    <tr>\n",
       "      <th>Proporcion de Trabajo en Remoto</th>\n",
       "      <td>565.0</td>\n",
       "      <td>69.911504</td>\n",
       "      <td>4.090067e+01</td>\n",
       "      <td>0.0</td>\n",
       "      <td>50.0</td>\n",
       "      <td>100.0</td>\n",
       "      <td>100.0</td>\n",
       "      <td>100.0</td>\n",
       "    </tr>\n",
       "  </tbody>\n",
       "</table>\n",
       "</div>"
      ],
      "text/plain": [
       "                                 count           mean           std     min  \\\n",
       "Año de Trabajo                   565.0    2021.364602  6.981384e-01  2020.0   \n",
       "Salario                          565.0  338115.985841  1.599879e+06  4000.0   \n",
       "Salario en USD                   565.0  110610.343363  7.228070e+04  2859.0   \n",
       "Proporcion de Trabajo en Remoto  565.0      69.911504  4.090067e+01     0.0   \n",
       "\n",
       "                                     25%       50%       75%         max  \n",
       "Año de Trabajo                    2021.0    2021.0    2022.0      2022.0  \n",
       "Salario                          67000.0  110925.0  165000.0  30400000.0  \n",
       "Salario en USD                   60757.0  100000.0  150000.0    600000.0  \n",
       "Proporcion de Trabajo en Remoto     50.0     100.0     100.0       100.0  "
      ]
     },
     "execution_count": 291,
     "metadata": {},
     "output_type": "execute_result"
    }
   ],
   "source": [
    "df.describe().T # Estadísticas descriptivas de las columnas numéricas del DataFrame."
   ]
  },
  {
   "cell_type": "code",
   "execution_count": 292,
   "metadata": {},
   "outputs": [
    {
     "data": {
      "text/plain": [
       "array([2020, 2021, 2022])"
      ]
     },
     "execution_count": 292,
     "metadata": {},
     "output_type": "execute_result"
    }
   ],
   "source": [
    "df['Año de Trabajo'].unique() # Verificar los valores únicos de la columna 'Año de Trabajo'."
   ]
  },
  {
   "cell_type": "code",
   "execution_count": 293,
   "metadata": {},
   "outputs": [
    {
     "data": {
      "text/plain": [
       "array(['MI', 'SE', 'EN', 'EX'], dtype=object)"
      ]
     },
     "execution_count": 293,
     "metadata": {},
     "output_type": "execute_result"
    }
   ],
   "source": [
    "df['Nivel de Experiencia'].unique() # Verificar los valores únicos de la columna 'Nivel de Experiencia'."
   ]
  },
  {
   "cell_type": "code",
   "execution_count": 294,
   "metadata": {},
   "outputs": [],
   "source": [
    "# Mapeo de valores\n",
    "mapa_niveles = {\n",
    "    'EN': 'Junior',\n",
    "    'MI': 'Intermediate',\n",
    "    'SE': 'Senior',\n",
    "    'EX': 'Director'\n",
    "}\n",
    "\n",
    "# Reemplazar los valores\n",
    "df['Nivel de Experiencia'] = df['Nivel de Experiencia'].replace(mapa_niveles)"
   ]
  },
  {
   "cell_type": "code",
   "execution_count": 295,
   "metadata": {},
   "outputs": [
    {
     "data": {
      "text/plain": [
       "array(['Intermediate', 'Senior', 'Junior', 'Director'], dtype=object)"
      ]
     },
     "execution_count": 295,
     "metadata": {},
     "output_type": "execute_result"
    }
   ],
   "source": [
    "df['Nivel de Experiencia'].unique() # Verificar los valores únicos de la columna 'Nivel de Experiencia' tras el reemplazo."
   ]
  },
  {
   "cell_type": "code",
   "execution_count": 296,
   "metadata": {},
   "outputs": [
    {
     "data": {
      "text/plain": [
       "array(['FT', 'CT', 'PT', 'FL'], dtype=object)"
      ]
     },
     "execution_count": 296,
     "metadata": {},
     "output_type": "execute_result"
    }
   ],
   "source": [
    "df['Tipo de Empleo'].unique() # Verificar los valores únicos de la columna 'Tipo de Empleo'."
   ]
  },
  {
   "cell_type": "code",
   "execution_count": 297,
   "metadata": {},
   "outputs": [],
   "source": [
    "# Mapeo de valores\n",
    "mapa_empleo = {\n",
    "    'PT': 'Part-time',\n",
    "    'FT': 'Full-time',\n",
    "    'CT': 'Contract',\n",
    "    'FL': 'Freelance'\n",
    "}\n",
    "\n",
    "# Reemplazar los valores\n",
    "df['Tipo de Empleo'] = df['Tipo de Empleo'].replace(mapa_empleo)"
   ]
  },
  {
   "cell_type": "code",
   "execution_count": 298,
   "metadata": {},
   "outputs": [
    {
     "data": {
      "text/plain": [
       "array(['Full-time', 'Contract', 'Part-time', 'Freelance'], dtype=object)"
      ]
     },
     "execution_count": 298,
     "metadata": {},
     "output_type": "execute_result"
    }
   ],
   "source": [
    "df['Tipo de Empleo'].unique() # Verificar los valores únicos de la columna 'Tipo de Empleo' tras el reemplazo."
   ]
  },
  {
   "cell_type": "code",
   "execution_count": 299,
   "metadata": {},
   "outputs": [
    {
     "data": {
      "text/plain": [
       "array(['Data Scientist', 'Machine Learning Scientist',\n",
       "       'Big Data Engineer', 'Product Data Analyst',\n",
       "       'Machine Learning Engineer', 'Data Analyst', 'Lead Data Scientist',\n",
       "       'Business Data Analyst', 'Lead Data Engineer', 'Lead Data Analyst',\n",
       "       'Data Engineer', 'Data Science Consultant', 'BI Data Analyst',\n",
       "       'Director of Data Science', 'Research Scientist',\n",
       "       'Machine Learning Manager', 'Data Engineering Manager',\n",
       "       'Machine Learning Infrastructure Engineer', 'ML Engineer',\n",
       "       'AI Scientist', 'Computer Vision Engineer',\n",
       "       'Principal Data Scientist', 'Data Science Manager', 'Head of Data',\n",
       "       '3D Computer Vision Researcher', 'Data Analytics Engineer',\n",
       "       'Applied Data Scientist', 'Marketing Data Analyst',\n",
       "       'Cloud Data Engineer', 'Financial Data Analyst',\n",
       "       'Computer Vision Software Engineer',\n",
       "       'Director of Data Engineering', 'Data Science Engineer',\n",
       "       'Principal Data Engineer', 'Machine Learning Developer',\n",
       "       'Applied Machine Learning Scientist', 'Data Analytics Manager',\n",
       "       'Head of Data Science', 'Data Specialist', 'Data Architect',\n",
       "       'Finance Data Analyst', 'Principal Data Analyst',\n",
       "       'Big Data Architect', 'Staff Data Scientist', 'Analytics Engineer',\n",
       "       'ETL Developer', 'Head of Machine Learning', 'NLP Engineer',\n",
       "       'Lead Machine Learning Engineer', 'Data Analytics Lead'],\n",
       "      dtype=object)"
      ]
     },
     "execution_count": 299,
     "metadata": {},
     "output_type": "execute_result"
    }
   ],
   "source": [
    "df['Título del Puesto'].unique() # Verificar los valores únicos de la columna 'Título del Puesto'."
   ]
  },
  {
   "cell_type": "code",
   "execution_count": 300,
   "metadata": {},
   "outputs": [
    {
     "data": {
      "text/plain": [
       "array(['EUR', 'USD', 'GBP', 'HUF', 'INR', 'JPY', 'CNY', 'MXN', 'CAD',\n",
       "       'DKK', 'PLN', 'SGD', 'CLP', 'BRL', 'TRY', 'AUD', 'CHF'],\n",
       "      dtype=object)"
      ]
     },
     "execution_count": 300,
     "metadata": {},
     "output_type": "execute_result"
    }
   ],
   "source": [
    "df['Moneda del Salario'].unique() # Verificar los valores únicos de la columna 'Moneda del Salario'."
   ]
  },
  {
   "cell_type": "code",
   "execution_count": 301,
   "metadata": {},
   "outputs": [
    {
     "data": {
      "text/plain": [
       "array(['DE', 'JP', 'GB', 'HN', 'US', 'HU', 'NZ', 'FR', 'IN', 'PK', 'PL',\n",
       "       'PT', 'CN', 'GR', 'AE', 'NL', 'MX', 'CA', 'AT', 'NG', 'PH', 'ES',\n",
       "       'DK', 'RU', 'IT', 'HR', 'BG', 'SG', 'BR', 'IQ', 'VN', 'BE', 'UA',\n",
       "       'MT', 'CL', 'RO', 'IR', 'CO', 'MD', 'KE', 'SI', 'HK', 'TR', 'RS',\n",
       "       'PR', 'LU', 'JE', 'CZ', 'AR', 'DZ', 'TN', 'MY', 'EE', 'AU', 'BO',\n",
       "       'IE', 'CH'], dtype=object)"
      ]
     },
     "execution_count": 301,
     "metadata": {},
     "output_type": "execute_result"
    }
   ],
   "source": [
    "df['Residencia del Empleado'].unique() # Verificar los valores únicos de la columna 'Residencia del Empleado'."
   ]
  },
  {
   "cell_type": "code",
   "execution_count": 302,
   "metadata": {},
   "outputs": [],
   "source": [
    "# Mapeo de valores.\n",
    "mapeo_paises = {\n",
    "    'DE': 'Alemania', 'JP': 'Japon', 'GB': 'Reino Unido', 'HN': 'Honduras', \n",
    "    'US': 'Estados Unidos', 'HU': 'Hungria', 'NZ': 'Nueva Zelanda', 'FR': 'Francia', \n",
    "    'IN': 'India', 'PK': 'Pakistan', 'PL': 'Polonia', 'PT': 'Portugal', 'CN': 'China', \n",
    "    'GR': 'Grecia', 'AE': 'Emiratos Arabes Unidos', 'NL': 'Paises Bajos', 'MX': 'Mexico', \n",
    "    'CA': 'Canada', 'AT': 'Austria', 'NG': 'Nigeria', 'PH': 'Filipinas', 'ES': 'España', \n",
    "    'DK': 'Dinamarca', 'RU': 'Rusia', 'IT': 'Italia', 'HR': 'Croacia', 'BG': 'Bulgaria', \n",
    "    'SG': 'Singapur', 'BR': 'Brasil', 'IQ': 'Irak', 'VN': 'Vietnam', 'BE': 'Belgica', \n",
    "    'UA': 'Ucrania', 'MT': 'Malta', 'CL': 'Chile', 'RO': 'Rumania', 'IR': 'Iran', \n",
    "    'CO': 'Colombia', 'MD': 'Moldavia', 'KE': 'Kenia', 'SI': 'Eslovenia', 'HK': 'Hong Kong', \n",
    "    'TR': 'Turquia', 'RS': 'Serbia', 'PR': 'Puerto Rico', 'LU': 'Luxemburgo', 'JE': 'Jersey', \n",
    "    'CZ': 'Republica Checa', 'AR': 'Argentina', 'DZ': 'Argelia', 'TN': 'Túnez', 'MY': 'Malasia', \n",
    "    'EE': 'Estonia', 'AU': 'Australia', 'BO': 'Bolivia', 'IE': 'Irlanda', 'CH': 'Suiza'\n",
    "}\n",
    "\n",
    "# Reemplazar los valores.\n",
    "df['Residencia del Empleado'] = df['Residencia del Empleado'].replace(mapeo_paises)"
   ]
  },
  {
   "cell_type": "code",
   "execution_count": 303,
   "metadata": {},
   "outputs": [
    {
     "data": {
      "text/plain": [
       "array(['Alemania', 'Japon', 'Reino Unido', 'Honduras', 'Estados Unidos',\n",
       "       'Hungria', 'Nueva Zelanda', 'Francia', 'India', 'Pakistan',\n",
       "       'Polonia', 'Portugal', 'China', 'Grecia', 'Emiratos Arabes Unidos',\n",
       "       'Paises Bajos', 'Mexico', 'Canada', 'Austria', 'Nigeria',\n",
       "       'Filipinas', 'España', 'Dinamarca', 'Rusia', 'Italia', 'Croacia',\n",
       "       'Bulgaria', 'Singapur', 'Brasil', 'Irak', 'Vietnam', 'Belgica',\n",
       "       'Ucrania', 'Malta', 'Chile', 'Rumania', 'Iran', 'Colombia',\n",
       "       'Moldavia', 'Kenia', 'Eslovenia', 'Hong Kong', 'Turquia', 'Serbia',\n",
       "       'Puerto Rico', 'Luxemburgo', 'Jersey', 'Republica Checa',\n",
       "       'Argentina', 'Argelia', 'Túnez', 'Malasia', 'Estonia', 'Australia',\n",
       "       'Bolivia', 'Irlanda', 'Suiza'], dtype=object)"
      ]
     },
     "execution_count": 303,
     "metadata": {},
     "output_type": "execute_result"
    }
   ],
   "source": [
    "df['Residencia del Empleado'].unique() # Verificar los valores únicos de la columna 'Residencia del Empleado' tras el reemplazo."
   ]
  },
  {
   "cell_type": "code",
   "execution_count": 304,
   "metadata": {},
   "outputs": [
    {
     "data": {
      "text/plain": [
       "array([  0,  50, 100])"
      ]
     },
     "execution_count": 304,
     "metadata": {},
     "output_type": "execute_result"
    }
   ],
   "source": [
    "df['Proporcion de Trabajo en Remoto'].unique() # Verificar los valores únicos de la columna 'Proporcion de Trabajo en Remoto'."
   ]
  },
  {
   "cell_type": "code",
   "execution_count": 305,
   "metadata": {},
   "outputs": [],
   "source": [
    "df['Proporcion de Trabajo en Remoto'] = df['Proporcion de Trabajo en Remoto'].astype(str).replace(mapa_remoto)\n",
    "\n",
    "# Mapeo de valores.\n",
    "# 0: No remote work (less than 20%)\n",
    "# 50: Partially remote\n",
    "# 100: Fully remote (more than 80%)\n",
    "mapa_remoto = {\n",
    "    '0': 'No remote work', \n",
    "    '50': 'Partially remote',\n",
    "    '100': 'Fully remote' \n",
    "}\n",
    "\n",
    "# Reemplazar los valores.\n",
    "df['Proporcion de Trabajo en Remoto'] = df['Proporcion de Trabajo en Remoto'].replace(mapa_remoto)"
   ]
  },
  {
   "cell_type": "code",
   "execution_count": 306,
   "metadata": {},
   "outputs": [
    {
     "data": {
      "text/plain": [
       "array(['No remote work', 'Partially remote', 'Fully remote'], dtype=object)"
      ]
     },
     "execution_count": 306,
     "metadata": {},
     "output_type": "execute_result"
    }
   ],
   "source": [
    "df['Proporcion de Trabajo en Remoto'].unique() # Verificar los valores únicos de la columna 'Proporcion de Trabajo en Remoto' tras el reemplazo."
   ]
  },
  {
   "cell_type": "code",
   "execution_count": 307,
   "metadata": {},
   "outputs": [
    {
     "data": {
      "text/plain": [
       "array(['DE', 'JP', 'GB', 'HN', 'US', 'HU', 'NZ', 'FR', 'IN', 'PK', 'CN',\n",
       "       'GR', 'AE', 'NL', 'MX', 'CA', 'AT', 'NG', 'ES', 'PT', 'DK', 'IT',\n",
       "       'HR', 'LU', 'PL', 'SG', 'RO', 'IQ', 'BR', 'BE', 'UA', 'IL', 'RU',\n",
       "       'MT', 'CL', 'IR', 'CO', 'MD', 'KE', 'SI', 'CH', 'VN', 'AS', 'TR',\n",
       "       'CZ', 'DZ', 'EE', 'MY', 'AU', 'IE'], dtype=object)"
      ]
     },
     "execution_count": 307,
     "metadata": {},
     "output_type": "execute_result"
    }
   ],
   "source": [
    "df['Ubicacion de la Empresa'].unique() # Verificar los valores únicos de la columna 'Ubicacion de la Empresa'."
   ]
  },
  {
   "cell_type": "code",
   "execution_count": 308,
   "metadata": {},
   "outputs": [],
   "source": [
    "# Mapeo de valores.\n",
    "mapeo_paises = {\n",
    "    'DE': 'Alemania', 'JP': 'Japon', 'GB': 'Reino Unido', 'HN': 'Honduras', \n",
    "    'US': 'Estados Unidos', 'HU': 'Hungria', 'NZ': 'Nueva Zelanda', 'FR': 'Francia', \n",
    "    'IN': 'India', 'PK': 'Pakistan', 'CN': 'China', 'GR': 'Grecia', 'AE': 'Emiratos Arabes Unidos', \n",
    "    'NL': 'Paises Bajos', 'MX': 'Mexico', 'CA': 'Canada', 'AT': 'Austria', 'NG': 'Nigeria', \n",
    "    'ES': 'España', 'PT': 'Portugal', 'DK': 'Dinamarca', 'IT': 'Italia', 'HR': 'Croacia', \n",
    "    'LU': 'Luxemburgo', 'PL': 'Polonia', 'SG': 'Singapur', 'RO': 'Rumania', 'IQ': 'Irak', \n",
    "    'BR': 'Brasil', 'BE': 'Belgica', 'UA': 'Ucrania', 'IL': 'Israel', 'RU': 'Rusia', \n",
    "    'MT': 'Malta', 'CL': 'Chile', 'IR': 'Iran', 'CO': 'Colombia', 'MD': 'Moldavia', \n",
    "    'KE': 'Kenia', 'SI': 'Eslovenia', 'CH': 'Suiza', 'VN': 'Vietnam', 'AS': 'Samoa Americana', \n",
    "    'TR': 'Turquia', 'CZ': 'Republica Checa', 'DZ': 'Argelia', 'EE': 'Estonia', 'MY': 'Malasia', \n",
    "    'AU': 'Australia', 'IE': 'Irlanda'\n",
    "}\n",
    "\n",
    "# Reemplazar los valores.\n",
    "df['Ubicacion de la Empresa'] = df['Ubicacion de la Empresa'].replace(mapeo_paises)"
   ]
  },
  {
   "cell_type": "code",
   "execution_count": 309,
   "metadata": {},
   "outputs": [
    {
     "data": {
      "text/plain": [
       "array(['Alemania', 'Japon', 'Reino Unido', 'Honduras', 'Estados Unidos',\n",
       "       'Hungria', 'Nueva Zelanda', 'Francia', 'India', 'Pakistan',\n",
       "       'China', 'Grecia', 'Emiratos Arabes Unidos', 'Paises Bajos',\n",
       "       'Mexico', 'Canada', 'Austria', 'Nigeria', 'España', 'Portugal',\n",
       "       'Dinamarca', 'Italia', 'Croacia', 'Luxemburgo', 'Polonia',\n",
       "       'Singapur', 'Rumania', 'Irak', 'Brasil', 'Belgica', 'Ucrania',\n",
       "       'Israel', 'Rusia', 'Malta', 'Chile', 'Iran', 'Colombia',\n",
       "       'Moldavia', 'Kenia', 'Eslovenia', 'Suiza', 'Vietnam',\n",
       "       'Samoa Americana', 'Turquia', 'Republica Checa', 'Argelia',\n",
       "       'Estonia', 'Malasia', 'Australia', 'Irlanda'], dtype=object)"
      ]
     },
     "execution_count": 309,
     "metadata": {},
     "output_type": "execute_result"
    }
   ],
   "source": [
    "df['Ubicacion de la Empresa'].unique() # Verificar los valores únicos de la columna 'Ubicacion de la Empresa' tras el reemplazo."
   ]
  },
  {
   "cell_type": "code",
   "execution_count": 310,
   "metadata": {},
   "outputs": [
    {
     "data": {
      "text/plain": [
       "array(['L', 'S', 'M'], dtype=object)"
      ]
     },
     "execution_count": 310,
     "metadata": {},
     "output_type": "execute_result"
    }
   ],
   "source": [
    "df['Tamaño de la Empresa'].unique() # Verificar los valores únicos de la columna 'Tamaño de la Empresa'."
   ]
  },
  {
   "cell_type": "code",
   "execution_count": 311,
   "metadata": {},
   "outputs": [],
   "source": [
    "# Mapeo de valores\n",
    "mapa_empleo = {\n",
    "    'S': 'Small', # (less than 50 employees)\n",
    "    'M': 'Medium', # (50 to 250 employees)\n",
    "    'L': 'Large' # (more than 250 employees)\n",
    "}\n",
    "\n",
    "# Reemplazar los valores\n",
    "df['Tamaño de la Empresa'] = df['Tamaño de la Empresa'].replace(mapa_empleo)"
   ]
  },
  {
   "cell_type": "code",
   "execution_count": 312,
   "metadata": {},
   "outputs": [
    {
     "data": {
      "text/plain": [
       "array(['Large', 'Small', 'Medium'], dtype=object)"
      ]
     },
     "execution_count": 312,
     "metadata": {},
     "output_type": "execute_result"
    }
   ],
   "source": [
    "df['Tamaño de la Empresa'].unique() # Verificar los valores únicos de la columna 'Tamaño de la Empresa' tras el reemplazo."
   ]
  },
  {
   "cell_type": "code",
   "execution_count": 318,
   "metadata": {},
   "outputs": [],
   "source": [
    "# Agregar una columna 'ID' con un número secuencial.\n",
    "df[\"ID\"] = range(1, len(df) + 1)"
   ]
  },
  {
   "cell_type": "code",
   "execution_count": 319,
   "metadata": {},
   "outputs": [
    {
     "data": {
      "text/html": [
       "<div>\n",
       "<style scoped>\n",
       "    .dataframe tbody tr th:only-of-type {\n",
       "        vertical-align: middle;\n",
       "    }\n",
       "\n",
       "    .dataframe tbody tr th {\n",
       "        vertical-align: top;\n",
       "    }\n",
       "\n",
       "    .dataframe thead th {\n",
       "        text-align: right;\n",
       "    }\n",
       "</style>\n",
       "<table border=\"1\" class=\"dataframe\">\n",
       "  <thead>\n",
       "    <tr style=\"text-align: right;\">\n",
       "      <th></th>\n",
       "      <th>Año de Trabajo</th>\n",
       "      <th>Nivel de Experiencia</th>\n",
       "      <th>Tipo de Empleo</th>\n",
       "      <th>Título del Puesto</th>\n",
       "      <th>Salario</th>\n",
       "      <th>Moneda del Salario</th>\n",
       "      <th>Salario en USD</th>\n",
       "      <th>Residencia del Empleado</th>\n",
       "      <th>Proporcion de Trabajo en Remoto</th>\n",
       "      <th>Ubicacion de la Empresa</th>\n",
       "      <th>Tamaño de la Empresa</th>\n",
       "      <th>ID</th>\n",
       "    </tr>\n",
       "  </thead>\n",
       "  <tbody>\n",
       "    <tr>\n",
       "      <th>0</th>\n",
       "      <td>2020</td>\n",
       "      <td>Intermediate</td>\n",
       "      <td>Full-time</td>\n",
       "      <td>Data Scientist</td>\n",
       "      <td>70000</td>\n",
       "      <td>EUR</td>\n",
       "      <td>79833</td>\n",
       "      <td>Alemania</td>\n",
       "      <td>No remote work</td>\n",
       "      <td>Alemania</td>\n",
       "      <td>Large</td>\n",
       "      <td>1</td>\n",
       "    </tr>\n",
       "    <tr>\n",
       "      <th>1</th>\n",
       "      <td>2020</td>\n",
       "      <td>Senior</td>\n",
       "      <td>Full-time</td>\n",
       "      <td>Machine Learning Scientist</td>\n",
       "      <td>260000</td>\n",
       "      <td>USD</td>\n",
       "      <td>260000</td>\n",
       "      <td>Japon</td>\n",
       "      <td>No remote work</td>\n",
       "      <td>Japon</td>\n",
       "      <td>Small</td>\n",
       "      <td>2</td>\n",
       "    </tr>\n",
       "    <tr>\n",
       "      <th>2</th>\n",
       "      <td>2020</td>\n",
       "      <td>Senior</td>\n",
       "      <td>Full-time</td>\n",
       "      <td>Big Data Engineer</td>\n",
       "      <td>85000</td>\n",
       "      <td>GBP</td>\n",
       "      <td>109024</td>\n",
       "      <td>Reino Unido</td>\n",
       "      <td>Partially remote</td>\n",
       "      <td>Reino Unido</td>\n",
       "      <td>Medium</td>\n",
       "      <td>3</td>\n",
       "    </tr>\n",
       "    <tr>\n",
       "      <th>3</th>\n",
       "      <td>2020</td>\n",
       "      <td>Intermediate</td>\n",
       "      <td>Full-time</td>\n",
       "      <td>Product Data Analyst</td>\n",
       "      <td>20000</td>\n",
       "      <td>USD</td>\n",
       "      <td>20000</td>\n",
       "      <td>Honduras</td>\n",
       "      <td>No remote work</td>\n",
       "      <td>Honduras</td>\n",
       "      <td>Small</td>\n",
       "      <td>4</td>\n",
       "    </tr>\n",
       "    <tr>\n",
       "      <th>4</th>\n",
       "      <td>2020</td>\n",
       "      <td>Senior</td>\n",
       "      <td>Full-time</td>\n",
       "      <td>Machine Learning Engineer</td>\n",
       "      <td>150000</td>\n",
       "      <td>USD</td>\n",
       "      <td>150000</td>\n",
       "      <td>Estados Unidos</td>\n",
       "      <td>Partially remote</td>\n",
       "      <td>Estados Unidos</td>\n",
       "      <td>Large</td>\n",
       "      <td>5</td>\n",
       "    </tr>\n",
       "    <tr>\n",
       "      <th>...</th>\n",
       "      <td>...</td>\n",
       "      <td>...</td>\n",
       "      <td>...</td>\n",
       "      <td>...</td>\n",
       "      <td>...</td>\n",
       "      <td>...</td>\n",
       "      <td>...</td>\n",
       "      <td>...</td>\n",
       "      <td>...</td>\n",
       "      <td>...</td>\n",
       "      <td>...</td>\n",
       "      <td>...</td>\n",
       "    </tr>\n",
       "    <tr>\n",
       "      <th>602</th>\n",
       "      <td>2022</td>\n",
       "      <td>Senior</td>\n",
       "      <td>Full-time</td>\n",
       "      <td>Data Engineer</td>\n",
       "      <td>154000</td>\n",
       "      <td>USD</td>\n",
       "      <td>154000</td>\n",
       "      <td>Estados Unidos</td>\n",
       "      <td>Fully remote</td>\n",
       "      <td>Estados Unidos</td>\n",
       "      <td>Medium</td>\n",
       "      <td>561</td>\n",
       "    </tr>\n",
       "    <tr>\n",
       "      <th>603</th>\n",
       "      <td>2022</td>\n",
       "      <td>Senior</td>\n",
       "      <td>Full-time</td>\n",
       "      <td>Data Engineer</td>\n",
       "      <td>126000</td>\n",
       "      <td>USD</td>\n",
       "      <td>126000</td>\n",
       "      <td>Estados Unidos</td>\n",
       "      <td>Fully remote</td>\n",
       "      <td>Estados Unidos</td>\n",
       "      <td>Medium</td>\n",
       "      <td>562</td>\n",
       "    </tr>\n",
       "    <tr>\n",
       "      <th>604</th>\n",
       "      <td>2022</td>\n",
       "      <td>Senior</td>\n",
       "      <td>Full-time</td>\n",
       "      <td>Data Analyst</td>\n",
       "      <td>129000</td>\n",
       "      <td>USD</td>\n",
       "      <td>129000</td>\n",
       "      <td>Estados Unidos</td>\n",
       "      <td>No remote work</td>\n",
       "      <td>Estados Unidos</td>\n",
       "      <td>Medium</td>\n",
       "      <td>563</td>\n",
       "    </tr>\n",
       "    <tr>\n",
       "      <th>605</th>\n",
       "      <td>2022</td>\n",
       "      <td>Senior</td>\n",
       "      <td>Full-time</td>\n",
       "      <td>Data Analyst</td>\n",
       "      <td>150000</td>\n",
       "      <td>USD</td>\n",
       "      <td>150000</td>\n",
       "      <td>Estados Unidos</td>\n",
       "      <td>Fully remote</td>\n",
       "      <td>Estados Unidos</td>\n",
       "      <td>Medium</td>\n",
       "      <td>564</td>\n",
       "    </tr>\n",
       "    <tr>\n",
       "      <th>606</th>\n",
       "      <td>2022</td>\n",
       "      <td>Intermediate</td>\n",
       "      <td>Full-time</td>\n",
       "      <td>AI Scientist</td>\n",
       "      <td>200000</td>\n",
       "      <td>USD</td>\n",
       "      <td>200000</td>\n",
       "      <td>India</td>\n",
       "      <td>Fully remote</td>\n",
       "      <td>Estados Unidos</td>\n",
       "      <td>Large</td>\n",
       "      <td>565</td>\n",
       "    </tr>\n",
       "  </tbody>\n",
       "</table>\n",
       "<p>565 rows × 12 columns</p>\n",
       "</div>"
      ],
      "text/plain": [
       "     Año de Trabajo Nivel de Experiencia Tipo de Empleo  \\\n",
       "0              2020         Intermediate      Full-time   \n",
       "1              2020               Senior      Full-time   \n",
       "2              2020               Senior      Full-time   \n",
       "3              2020         Intermediate      Full-time   \n",
       "4              2020               Senior      Full-time   \n",
       "..              ...                  ...            ...   \n",
       "602            2022               Senior      Full-time   \n",
       "603            2022               Senior      Full-time   \n",
       "604            2022               Senior      Full-time   \n",
       "605            2022               Senior      Full-time   \n",
       "606            2022         Intermediate      Full-time   \n",
       "\n",
       "              Título del Puesto  Salario Moneda del Salario  Salario en USD  \\\n",
       "0                Data Scientist    70000                EUR           79833   \n",
       "1    Machine Learning Scientist   260000                USD          260000   \n",
       "2             Big Data Engineer    85000                GBP          109024   \n",
       "3          Product Data Analyst    20000                USD           20000   \n",
       "4     Machine Learning Engineer   150000                USD          150000   \n",
       "..                          ...      ...                ...             ...   \n",
       "602               Data Engineer   154000                USD          154000   \n",
       "603               Data Engineer   126000                USD          126000   \n",
       "604                Data Analyst   129000                USD          129000   \n",
       "605                Data Analyst   150000                USD          150000   \n",
       "606                AI Scientist   200000                USD          200000   \n",
       "\n",
       "    Residencia del Empleado Proporcion de Trabajo en Remoto  \\\n",
       "0                  Alemania                  No remote work   \n",
       "1                     Japon                  No remote work   \n",
       "2               Reino Unido                Partially remote   \n",
       "3                  Honduras                  No remote work   \n",
       "4            Estados Unidos                Partially remote   \n",
       "..                      ...                             ...   \n",
       "602          Estados Unidos                    Fully remote   \n",
       "603          Estados Unidos                    Fully remote   \n",
       "604          Estados Unidos                  No remote work   \n",
       "605          Estados Unidos                    Fully remote   \n",
       "606                   India                    Fully remote   \n",
       "\n",
       "    Ubicacion de la Empresa Tamaño de la Empresa   ID  \n",
       "0                  Alemania                Large    1  \n",
       "1                     Japon                Small    2  \n",
       "2               Reino Unido               Medium    3  \n",
       "3                  Honduras                Small    4  \n",
       "4            Estados Unidos                Large    5  \n",
       "..                      ...                  ...  ...  \n",
       "602          Estados Unidos               Medium  561  \n",
       "603          Estados Unidos               Medium  562  \n",
       "604          Estados Unidos               Medium  563  \n",
       "605          Estados Unidos               Medium  564  \n",
       "606          Estados Unidos                Large  565  \n",
       "\n",
       "[565 rows x 12 columns]"
      ]
     },
     "execution_count": 319,
     "metadata": {},
     "output_type": "execute_result"
    }
   ],
   "source": [
    "df"
   ]
  },
  {
   "cell_type": "code",
   "execution_count": 320,
   "metadata": {},
   "outputs": [],
   "source": [
    "# Guardar el DataFrame combinado en un archivo CSV.\n",
    "df.to_csv(\"CSV/Salaries_Data.csv\", index=False) # index=False evita que se guarde el índice."
   ]
  }
 ],
 "metadata": {
  "kernelspec": {
   "display_name": "Python 3 (ipykernel)",
   "language": "python",
   "name": "python3"
  },
  "language_info": {
   "codemirror_mode": {
    "name": "ipython",
    "version": 3
   },
   "file_extension": ".py",
   "mimetype": "text/x-python",
   "name": "python",
   "nbconvert_exporter": "python",
   "pygments_lexer": "ipython3",
   "version": "3.12.9"
  }
 },
 "nbformat": 4,
 "nbformat_minor": 2
}
